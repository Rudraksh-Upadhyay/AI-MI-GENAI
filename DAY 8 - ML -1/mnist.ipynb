{
 "cells": [
  {
   "cell_type": "code",
   "id": "initial_id",
   "metadata": {
    "collapsed": true,
    "ExecuteTime": {
     "end_time": "2025-10-17T15:11:42.851063Z",
     "start_time": "2025-10-17T15:10:52.276002Z"
    }
   },
   "source": [
    "import keras\n",
    "import numpy as np\n",
    "import pandas as pd\n",
    "from keras.src.utils import to_categorical\n",
    "from tensorflow.keras.datasets import fashion_mnist\n",
    "import matplotlib.pyplot as plt"
   ],
   "outputs": [],
   "execution_count": 1
  },
  {
   "metadata": {
    "ExecuteTime": {
     "end_time": "2025-10-17T15:11:43.234094Z",
     "start_time": "2025-10-17T15:11:42.896126Z"
    }
   },
   "cell_type": "code",
   "source": "(train_images, train_labels), (test_images, test_labels) = fashion_mnist.load_data()",
   "id": "e8ea70cd671306b7",
   "outputs": [],
   "execution_count": 2
  },
  {
   "metadata": {
    "ExecuteTime": {
     "end_time": "2025-10-17T15:11:43.648712Z",
     "start_time": "2025-10-17T15:11:43.254317Z"
    }
   },
   "cell_type": "code",
   "source": [
    "# plt.imshow(train_images[0], cmap=plt.get_cmap('gray'))\n",
    "plt.imshow(train_images[6], cmap=plt.cm.binary)"
   ],
   "id": "3be77c770415147a",
   "outputs": [
    {
     "data": {
      "text/plain": [
       "<matplotlib.image.AxesImage at 0x1936c042cf0>"
      ]
     },
     "execution_count": 3,
     "metadata": {},
     "output_type": "execute_result"
    },
    {
     "data": {
      "text/plain": [
       "<Figure size 640x480 with 1 Axes>"
      ],
      "image/png": "[encoded data removed]"
     },
     "metadata": {},
     "output_type": "display_data",
     "jetTransient": {
      "display_id": null
     }
    }
   ],
   "execution_count": 3
  },
  {
   "metadata": {
    "ExecuteTime": {
     "end_time": "2025-10-17T15:11:43.664481Z",
     "start_time": "2025-10-17T15:11:43.662134Z"
    }
   },
   "cell_type": "code",
   "source": "print(train_labels[6])",
   "id": "40d54bad6fdc1d5b",
   "outputs": [
    {
     "name": "stdout",
     "output_type": "stream",
     "text": [
      "7\n"
     ]
    }
   ],
   "execution_count": 4
  },
  {
   "metadata": {
    "ExecuteTime": {
     "end_time": "2025-10-17T15:11:43.677196Z",
     "start_time": "2025-10-17T15:11:43.673395Z"
    }
   },
   "cell_type": "code",
   "source": [
    "train_labels_one_hot = to_categorical(train_labels, num_classes=10)\n",
    "test_labels_one_hot = to_categorical(test_labels, num_classes=10)"
   ],
   "id": "7141b4daae091794",
   "outputs": [],
   "execution_count": 5
  },
  {
   "metadata": {
    "ExecuteTime": {
     "end_time": "2025-10-17T15:11:43.687360Z",
     "start_time": "2025-10-17T15:11:43.684452Z"
    }
   },
   "cell_type": "code",
   "source": "train_labels_one_hot[0].shape",
   "id": "65ba53d4fe06ebdb",
   "outputs": [
    {
     "data": {
      "text/plain": [
       "(10,)"
      ]
     },
     "execution_count": 6,
     "metadata": {},
     "output_type": "execute_result"
    }
   ],
   "execution_count": 6
  },
  {
   "metadata": {
    "ExecuteTime": {
     "end_time": "2025-10-17T15:11:43.698424Z",
     "start_time": "2025-10-17T15:11:43.695687Z"
    }
   },
   "cell_type": "code",
   "source": "print(train_labels_one_hot[0])",
   "id": "d2be39643336d5c8",
   "outputs": [
    {
     "name": "stdout",
     "output_type": "stream",
     "text": [
      "[0. 0. 0. 0. 0. 0. 0. 0. 0. 1.]\n"
     ]
    }
   ],
   "execution_count": 7
  },
  {
   "metadata": {
    "ExecuteTime": {
     "end_time": "2025-10-17T15:11:43.710589Z",
     "start_time": "2025-10-17T15:11:43.707730Z"
    }
   },
   "cell_type": "code",
   "source": [
    "#THEREFORE\n",
    "print(\"Training images shape:\", train_images.shape)\n",
    "print(\"Test images shape:\", test_images.shape)\n",
    "print(\"Training labels shape:\", train_labels_one_hot.shape)\n",
    "print(\"Test images label shape:\", test_labels_one_hot.shape)"
   ],
   "id": "28946d6a643fd440",
   "outputs": [
    {
     "name": "stdout",
     "output_type": "stream",
     "text": [
      "Training images shape: (60000, 28, 28)\n",
      "Test images shape: (10000, 28, 28)\n",
      "Training labels shape: (60000, 10)\n",
      "Test images label shape: (10000, 10)\n"
     ]
    }
   ],
   "execution_count": 8
  },
  {
   "metadata": {},
   "cell_type": "markdown",
   "source": "## BASIC ANN",
   "id": "8c651d21fad4a72e"
  },
  {
   "metadata": {
    "ExecuteTime": {
     "end_time": "2025-10-17T15:13:29.652981Z",
     "start_time": "2025-10-17T15:13:29.623721Z"
    }
   },
   "cell_type": "code",
   "source": [
    "ann_model = keras.Sequential([\n",
    "    keras.layers.Flatten(input_shape=(28, 28, 1)),\n",
    "    keras.layers.Dense(128, activation='relu'),\n",
    "    keras.layers.Dense(64, activation='relu'),\n",
    "    keras.layers.Dense(10, activation='softmax')\n",
    "])\n",
    "\n",
    "\n",
    "ann_model.compile(optimizer='adam', loss='categorical_crossentropy', metrics=['accuracy'])\n",
    "\n",
    "ann_model.summary()\n",
    "\n"
   ],
   "id": "558e5c10797763b0",
   "outputs": [
    {
     "data": {
      "text/plain": [
       "\u001B[1mModel: \"sequential_1\"\u001B[0m\n"
      ],
      "text/html": [
       "<pre style=\"white-space:pre;overflow-x:auto;line-height:normal;font-family:Menlo,'DejaVu Sans Mono',consolas,'Courier New',monospace\"><span style=\"font-weight: bold\">Model: \"sequential_1\"</span>\n",
       "</pre>\n"
      ]
     },
     "metadata": {},
     "output_type": "display_data",
     "jetTransient": {
      "display_id": null
     }
    },
    {
     "data": {
      "text/plain": [
       "┏━━━━━━━━━━━━━━━━━━━━━━━━━━━━━━━━━┳━━━━━━━━━━━━━━━━━━━━━━━━┳━━━━━━━━━━━━━━━┓\n",
       "┃\u001B[1m \u001B[0m\u001B[1mLayer (type)                   \u001B[0m\u001B[1m \u001B[0m┃\u001B[1m \u001B[0m\u001B[1mOutput Shape          \u001B[0m\u001B[1m \u001B[0m┃\u001B[1m \u001B[0m\u001B[1m      Param #\u001B[0m\u001B[1m \u001B[0m┃\n",
       "┡━━━━━━━━━━━━━━━━━━━━━━━━━━━━━━━━━╇━━━━━━━━━━━━━━━━━━━━━━━━╇━━━━━━━━━━━━━━━┩\n",
       "│ flatten_1 (\u001B[38;5;33mFlatten\u001B[0m)             │ (\u001B[38;5;45mNone\u001B[0m, \u001B[38;5;34m784\u001B[0m)            │             \u001B[38;5;34m0\u001B[0m │\n",
       "├─────────────────────────────────┼────────────────────────┼───────────────┤\n",
       "│ dense_3 (\u001B[38;5;33mDense\u001B[0m)                 │ (\u001B[38;5;45mNone\u001B[0m, \u001B[38;5;34m128\u001B[0m)            │       \u001B[38;5;34m100,480\u001B[0m │\n",
       "├─────────────────────────────────┼────────────────────────┼───────────────┤\n",
       "│ dense_4 (\u001B[38;5;33mDense\u001B[0m)                 │ (\u001B[38;5;45mNone\u001B[0m, \u001B[38;5;34m64\u001B[0m)             │         \u001B[38;5;34m8,256\u001B[0m │\n",
       "├─────────────────────────────────┼────────────────────────┼───────────────┤\n",
       "│ dense_5 (\u001B[38;5;33mDense\u001B[0m)                 │ (\u001B[38;5;45mNone\u001B[0m, \u001B[38;5;34m10\u001B[0m)             │           \u001B[38;5;34m650\u001B[0m │\n",
       "└─────────────────────────────────┴────────────────────────┴───────────────┘\n"
      ],
      "text/html": [
       "<pre style=\"white-space:pre;overflow-x:auto;line-height:normal;font-family:Menlo,'DejaVu Sans Mono',consolas,'Courier New',monospace\">┏━━━━━━━━━━━━━━━━━━━━━━━━━━━━━━━━━┳━━━━━━━━━━━━━━━━━━━━━━━━┳━━━━━━━━━━━━━━━┓\n",
       "┃<span style=\"font-weight: bold\"> Layer (type)                    </span>┃<span style=\"font-weight: bold\"> Output Shape           </span>┃<span style=\"font-weight: bold\">       Param # </span>┃\n",
       "┡━━━━━━━━━━━━━━━━━━━━━━━━━━━━━━━━━╇━━━━━━━━━━━━━━━━━━━━━━━━╇━━━━━━━━━━━━━━━┩\n",
       "│ flatten_1 (<span style=\"color: #0087ff; text-decoration-color: #0087ff\">Flatten</span>)             │ (<span style=\"color: #00d7ff; text-decoration-color: #00d7ff\">None</span>, <span style=\"color: #00af00; text-decoration-color: #00af00\">784</span>)            │             <span style=\"color: #00af00; text-decoration-color: #00af00\">0</span> │\n",
       "├─────────────────────────────────┼────────────────────────┼───────────────┤\n",
       "│ dense_3 (<span style=\"color: #0087ff; text-decoration-color: #0087ff\">Dense</span>)                 │ (<span style=\"color: #00d7ff; text-decoration-color: #00d7ff\">None</span>, <span style=\"color: #00af00; text-decoration-color: #00af00\">128</span>)            │       <span style=\"color: #00af00; text-decoration-color: #00af00\">100,480</span> │\n",
       "├─────────────────────────────────┼────────────────────────┼───────────────┤\n",
       "│ dense_4 (<span style=\"color: #0087ff; text-decoration-color: #0087ff\">Dense</span>)                 │ (<span style=\"color: #00d7ff; text-decoration-color: #00d7ff\">None</span>, <span style=\"color: #00af00; text-decoration-color: #00af00\">64</span>)             │         <span style=\"color: #00af00; text-decoration-color: #00af00\">8,256</span> │\n",
       "├─────────────────────────────────┼────────────────────────┼───────────────┤\n",
       "│ dense_5 (<span style=\"color: #0087ff; text-decoration-color: #0087ff\">Dense</span>)                 │ (<span style=\"color: #00d7ff; text-decoration-color: #00d7ff\">None</span>, <span style=\"color: #00af00; text-decoration-color: #00af00\">10</span>)             │           <span style=\"color: #00af00; text-decoration-color: #00af00\">650</span> │\n",
       "└─────────────────────────────────┴────────────────────────┴───────────────┘\n",
       "</pre>\n"
      ]
     },
     "metadata": {},
     "output_type": "display_data",
     "jetTransient": {
      "display_id": null
     }
    },
    {
     "data": {
      "text/plain": [
       "\u001B[1m Total params: \u001B[0m\u001B[38;5;34m109,386\u001B[0m (427.29 KB)\n"
      ],
      "text/html": [
       "<pre style=\"white-space:pre;overflow-x:auto;line-height:normal;font-family:Menlo,'DejaVu Sans Mono',consolas,'Courier New',monospace\"><span style=\"font-weight: bold\"> Total params: </span><span style=\"color: #00af00; text-decoration-color: #00af00\">109,386</span> (427.29 KB)\n",
       "</pre>\n"
      ]
     },
     "metadata": {},
     "output_type": "display_data",
     "jetTransient": {
      "display_id": null
     }
    },
    {
     "data": {
      "text/plain": [
       "\u001B[1m Trainable params: \u001B[0m\u001B[38;5;34m109,386\u001B[0m (427.29 KB)\n"
      ],
      "text/html": [
       "<pre style=\"white-space:pre;overflow-x:auto;line-height:normal;font-family:Menlo,'DejaVu Sans Mono',consolas,'Courier New',monospace\"><span style=\"font-weight: bold\"> Trainable params: </span><span style=\"color: #00af00; text-decoration-color: #00af00\">109,386</span> (427.29 KB)\n",
       "</pre>\n"
      ]
     },
     "metadata": {},
     "output_type": "display_data",
     "jetTransient": {
      "display_id": null
     }
    },
    {
     "data": {
      "text/plain": [
       "\u001B[1m Non-trainable params: \u001B[0m\u001B[38;5;34m0\u001B[0m (0.00 B)\n"
      ],
      "text/html": [
       "<pre style=\"white-space:pre;overflow-x:auto;line-height:normal;font-family:Menlo,'DejaVu Sans Mono',consolas,'Courier New',monospace\"><span style=\"font-weight: bold\"> Non-trainable params: </span><span style=\"color: #00af00; text-decoration-color: #00af00\">0</span> (0.00 B)\n",
       "</pre>\n"
      ]
     },
     "metadata": {},
     "output_type": "display_data",
     "jetTransient": {
      "display_id": null
     }
    }
   ],
   "execution_count": 12
  },
  {
   "metadata": {},
   "cell_type": "markdown",
   "source": [
    "# 🎨 The Sequential Model: A Breakdown\n",
    "\n",
    "---\n",
    "\n",
    "## 🚀 What Is This Model?\n",
    "\n",
    "This is a **sequential model**, which means it's a linear stack of layers where data flows in a straight line from one layer to the next. It's often used for building simple neural network architectures.\n",
    "\n",
    "Let's break down each layer:\n",
    "\n",
    "### 🧩 Layers Explained\n",
    "\n",
    "#### **1. `keras.layers.Flatten(input_shape=(28, 28, 1))`**\n",
    "This is the **input layer**. It takes a 2D image (28x28 pixels) and **\"flattens\"** it into a single 1D array of 784 pixels.\n",
    "- `input_shape=(28, 28, 1)`: Specifies the dimensions of the input. The `1` indicates that the images are grayscale (one color channel).\n",
    "\n",
    "#### **2. `keras.layers.Dense(128, activation='relu')`**\n",
    "This is the **first hidden layer**. It's a fully connected layer where every neuron receives input from all the neurons in the previous layer.\n",
    "- `128`: The number of neurons in this layer.\n",
    "- `activation='relu'`: The **Rectified Linear Unit (ReLU)** activation function. It introduces non-linearity, helping the network learn complex patterns by turning all negative values into zero.\n",
    "\n",
    "#### **3. `keras.layers.Dense(64, activation='relu')`**\n",
    "This is the **second hidden layer**. It's another fully connected layer, but with 64 neurons. It works similarly to the first hidden layer, processing the features passed on from it.\n",
    "\n",
    "#### **4. `keras.layers.Dense(10, activation='softmax')`**\n",
    "This is the **output layer**.\n",
    "- `10`: The number of neurons, which matches the number of classes you're trying to predict (e.g., the 10 classes in Fashion MNIST).\n",
    "- `activation='softmax'`: This activation function converts the raw output values into a **probability distribution**. The result is 10 values, where each value is the probability that the input belongs to a specific class. The sum of all these probabilities will equal `1`."
   ],
   "id": "c526703c616e03ba"
  },
  {
   "metadata": {},
   "cell_type": "markdown",
   "source": [
    "# 🖼️ Understanding Image Dimensions & Model Complexity\n",
    "\n",
    "---\n",
    "\n",
    "## 📐 Why `(28, 28, 1)`?\n",
    "\n",
    "The **`(28, 28, 1)`** in your **`Flatten`** layer's **`input_shape`** refers to the dimensions of each input image.\n",
    "\n",
    "- **`28`**: This is the **height** of the image in pixels.\n",
    "- **`28`**: This is the **width** of the image in pixels.\n",
    "- **`1`**: This is the number of **color channels**. Since the Fashion MNIST images are grayscale (black and white), they only have one channel. For a color image (like a regular photograph), this would typically be **`3`** for Red, Green, and Blue (**RGB**) channels.\n",
    "\n",
    "Even though your **`train_images`** array might look like it has a shape of `(60000, 28, 28)`, Keras expects the channel dimension to be explicitly stated for certain layers, especially when the data is being preprocessed. The **`Flatten`** layer takes this **`(28, 28, 1)`** input and converts it into a single, flat array of **784** numbers (`28 * 28 * 1`).\n",
    "\n",
    "---\n",
    "\n",
    "## 📉 Can I Decrease the Hidden Layers?\n",
    "\n",
    "Yes, you can absolutely decrease the number of hidden layers or the number of neurons within them. This process is known as **hyperparameter tuning**, and it's a core part of building neural networks.\n",
    "\n",
    "- **Fewer Layers/Neurons**: A simpler model with fewer layers will have fewer parameters to learn. This can make the model **faster to train** and **less prone to overfitting** (when the model learns the training data too well and performs poorly on new data). However, a model that is too simple might not be powerful enough to capture the complexity of the data, leading to **underfitting** and poor performance.\n",
    "\n",
    "- **More Layers/Neurons**: A more complex model can learn more intricate patterns. This can potentially lead to **higher accuracy**, but it also increases the risk of overfitting and requires more computational resources and time to train.\n",
    "\n",
    "You can try modifying your model to be simpler, like this:\n",
    "\n",
    "```python\n",
    "ann_model = keras.Sequential([\n",
    "    keras.layers.Flatten(input_shape=(28, 28, 1)),\n",
    "    keras.layers.Dense(64, activation='relu'),\n",
    "    keras.layers.Dense(10, activation='softmax')\n",
    "])"
   ],
   "id": "7006c73de7bec3b0"
  },
  {
   "metadata": {},
   "cell_type": "markdown",
   "source": [
    "# 🧠 Key Components of a Neural Network\n",
    "\n",
    "---\n",
    "\n",
    "## 🎯 Softmax (Activation Function)\n",
    "\n",
    "### **What is it?**\n",
    "**Softmax** is a special activation function used in the **final layer** of a neural network for multi-class classification problems. It takes the raw outputs (called **logits**) from the last layer and converts them into a set of **probabilities**.\n",
    "\n",
    "### **Role and Importance**\n",
    "Its main job is to ensure that the model's output is a **probability distribution**. The probabilities for all possible classes add up to **1**, and the highest probability corresponds to the class that the model believes is the most likely prediction. This makes the output easily interpretable. For example, the model might output `[0.05, 0.05, 0.85, 0.05, ...]` which clearly indicates an **85% probability** that the input belongs to the third class.\n",
    "\n",
    "### **Other Examples**\n",
    "If you were doing a **binary classification** (e.g., is this a cat or not a cat?), you would typically use a **sigmoid** activation function in the output layer. A sigmoid function outputs a single value between **0** and **1**, representing the probability of the positive class.\n",
    "\n",
    "---\n",
    "\n",
    "## 📉 Loss (Loss Function)\n",
    "\n",
    "### **What is it?**\n",
    "The **loss function**, also known as the cost function, is a measure of how well your model's predictions align with the actual, correct labels. It calculates the **\"penalty\"** for every incorrect prediction. A higher loss value means the model is performing poorly, while a lower loss value indicates good performance.\n",
    "\n",
    "### **Role and Importance**\n",
    "The loss function is the target that the model tries to **minimize** during training. It provides the feedback signal that the optimizer uses to adjust the model's weights. Without a loss function, the model would have no way of knowing if it's getting better or worse.\n",
    "\n",
    "### **Other Examples and Their Impacts**\n",
    "- **`categorical_crossentropy`**: This is the most common loss function for **multi-class classification** problems, especially when your labels are **one-hot encoded**.\n",
    "- **`sparse_categorical_crossentropy`**: This is an alternative that works directly with **integer labels** (e.g., `0, 1, 2`) instead of one-hot encoded labels, saving you a step in data preparation.\n",
    "- **`binary_crossentropy`**: This is used for **binary classification** problems and is typically paired with the sigmoid activation function.\n",
    "\n",
    "---\n",
    "\n",
    "## ⚙️ Optimizer (Optimization Algorithm)\n",
    "\n",
    "### **What is it?**\n",
    "An **optimizer** is the algorithm that adjusts the weights of your neural network during the training process to minimize the loss function. Think of it as the **\"engine\"** of the learning process.\n",
    "\n",
    "### **Role and Importance**\n",
    "The optimizer's job is to figure out how to best update the model's internal parameters (weights and biases) to make the model's predictions more accurate. It analyzes the loss value and intelligently decides the size and direction of the adjustments.\n",
    "\n",
    "### **Other Examples and Their Impacts**\n",
    "- **`adam`**: You're using **`adam`**, which is one of the most popular and generally effective optimizers. It adapts the learning rate for each weight, making it highly efficient.\n",
    "- **`sgd`**: **Stochastic Gradient Descent** is a foundational optimizer. It's simpler and can be slower to train, but it can sometimes find a better solution if carefully tuned.\n",
    "- **`rmsprop`**: This is another effective optimizer that adjusts the learning rate for each parameter and is often a strong alternative to **`adam`**.\n",
    "\n",
    "The choice of optimizer can significantly impact how quickly your model learns and the final accuracy it achieves. For most problems, **`adam`** is a great starting point, but trying others can sometimes yield a slight performance boost."
   ],
   "id": "c592b7e9435693bc"
  },
  {
   "metadata": {
    "ExecuteTime": {
     "end_time": "2025-10-17T15:11:49.076303Z",
     "start_time": "2025-10-17T15:11:43.856001Z"
    }
   },
   "cell_type": "code",
   "source": [
    "ann_model.fit(\n",
    "    train_images,\n",
    "    train_labels_one_hot,\n",
    "    epochs=5,\n",
    "    batch_size=128,\n",
    "    validation_data=(test_images, test_labels_one_hot)\n",
    ")"
   ],
   "id": "74177eebbdfda938",
   "outputs": [
    {
     "name": "stdout",
     "output_type": "stream",
     "text": [
      "Epoch 1/5\n",
      "\u001B[1m469/469\u001B[0m \u001B[32m━━━━━━━━━━━━━━━━━━━━\u001B[0m\u001B[37m\u001B[0m \u001B[1m2s\u001B[0m 2ms/step - accuracy: 0.7428 - loss: 3.5095 - val_accuracy: 0.7697 - val_loss: 1.1360\n",
      "Epoch 2/5\n",
      "\u001B[1m469/469\u001B[0m \u001B[32m━━━━━━━━━━━━━━━━━━━━\u001B[0m\u001B[37m\u001B[0m \u001B[1m1s\u001B[0m 2ms/step - accuracy: 0.7988 - loss: 0.7845 - val_accuracy: 0.7851 - val_loss: 0.7623\n",
      "Epoch 3/5\n",
      "\u001B[1m469/469\u001B[0m \u001B[32m━━━━━━━━━━━━━━━━━━━━\u001B[0m\u001B[37m\u001B[0m \u001B[1m1s\u001B[0m 2ms/step - accuracy: 0.8194 - loss: 0.5627 - val_accuracy: 0.8173 - val_loss: 0.5846\n",
      "Epoch 4/5\n",
      "\u001B[1m469/469\u001B[0m \u001B[32m━━━━━━━━━━━━━━━━━━━━\u001B[0m\u001B[37m\u001B[0m \u001B[1m1s\u001B[0m 2ms/step - accuracy: 0.8367 - loss: 0.4812 - val_accuracy: 0.8258 - val_loss: 0.5190\n",
      "Epoch 5/5\n",
      "\u001B[1m469/469\u001B[0m \u001B[32m━━━━━━━━━━━━━━━━━━━━\u001B[0m\u001B[37m\u001B[0m \u001B[1m1s\u001B[0m 2ms/step - accuracy: 0.8486 - loss: 0.4332 - val_accuracy: 0.8386 - val_loss: 0.4814\n"
     ]
    },
    {
     "data": {
      "text/plain": [
       "<keras.src.callbacks.history.History at 0x1936c180830>"
      ]
     },
     "execution_count": 10,
     "metadata": {},
     "output_type": "execute_result"
    }
   ],
   "execution_count": 10
  }
 ],
 "metadata": {
  "kernelspec": {
   "display_name": "Python 3",
   "language": "python",
   "name": "python3"
  },
  "language_info": {
   "codemirror_mode": {
    "name": "ipython",
    "version": 2
   },
   "file_extension": ".py",
   "mimetype": "text/x-python",
   "name": "python",
   "nbconvert_exporter": "python",
   "pygments_lexer": "ipython2",
   "version": "2.7.6"
  }
 },
 "nbformat": 4,
 "nbformat_minor": 5
}
