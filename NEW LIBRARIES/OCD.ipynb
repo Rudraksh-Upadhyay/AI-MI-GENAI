{
 "cells": [
  {
   "cell_type": "code",
   "id": "initial_id",
   "metadata": {
    "collapsed": true,
    "ExecuteTime": {
     "end_time": "2025-09-15T19:36:25.306323Z",
     "start_time": "2025-09-15T19:36:12.161476Z"
    }
   },
   "source": "import easyocr",
   "outputs": [],
   "execution_count": 1
  },
  {
   "metadata": {
    "ExecuteTime": {
     "end_time": "2025-09-15T19:41:42.799077Z",
     "start_time": "2025-09-15T19:41:40.705906Z"
    }
   },
   "cell_type": "code",
   "source": [
    "reader = easyocr.Reader(['en', 'hi'])\n",
    "results = reader.readtext('sample.png')\n",
    "print(results)"
   ],
   "id": "eeea1fe98d90f68",
   "outputs": [
    {
     "name": "stderr",
     "output_type": "stream",
     "text": [
      "Neither CUDA nor MPS are available - defaulting to CPU. Note: This module is much faster with a GPU.\n"
     ]
    },
    {
     "name": "stdout",
     "output_type": "stream",
     "text": [
      "[([[np.int32(3), np.int32(19)], [np.int32(77), np.int32(19)], [np.int32(77), np.int32(39)], [np.int32(3), np.int32(39)]], 'New chat', np.float64(0.9505393686419707))]\n"
     ]
    },
    {
     "name": "stderr",
     "output_type": "stream",
     "text": [
      "D:\\ENGINEERING\\PYTHON\\21 DAYS 21 PROJECTS\\.venv\\Lib\\site-packages\\torch\\utils\\data\\dataloader.py:666: UserWarning: 'pin_memory' argument is set as true but no accelerator is found, then device pinned memory won't be used.\n",
      "  warnings.warn(warn_msg)\n"
     ]
    }
   ],
   "execution_count": 4
  },
  {
   "metadata": {
    "ExecuteTime": {
     "end_time": "2025-09-15T19:41:52.446821Z",
     "start_time": "2025-09-15T19:41:52.440053Z"
    }
   },
   "cell_type": "code",
   "source": "results",
   "id": "32e4dd5af8024511",
   "outputs": [
    {
     "data": {
      "text/plain": [
       "[([[np.int32(3), np.int32(19)],\n",
       "   [np.int32(77), np.int32(19)],\n",
       "   [np.int32(77), np.int32(39)],\n",
       "   [np.int32(3), np.int32(39)]],\n",
       "  'New chat',\n",
       "  np.float64(0.9505393686419707))]"
      ]
     },
     "execution_count": 5,
     "metadata": {},
     "output_type": "execute_result"
    }
   ],
   "execution_count": 5
  },
  {
   "metadata": {
    "ExecuteTime": {
     "end_time": "2025-09-15T19:42:51.140737Z",
     "start_time": "2025-09-15T19:42:51.138041Z"
    }
   },
   "cell_type": "code",
   "source": [
    "for bbox, text, conf in results:\n",
    "    print(f\"{conf:.2f}\\t{text}\")"
   ],
   "id": "aa1fb3bed21ee190",
   "outputs": [
    {
     "name": "stdout",
     "output_type": "stream",
     "text": [
      "0.95\tNew chat\n"
     ]
    }
   ],
   "execution_count": 6
  },
  {
   "metadata": {},
   "cell_type": "code",
   "outputs": [],
   "execution_count": null,
   "source": "",
   "id": "85a165f2292b80f7"
  }
 ],
 "metadata": {
  "kernelspec": {
   "display_name": "Python 3",
   "language": "python",
   "name": "python3"
  },
  "language_info": {
   "codemirror_mode": {
    "name": "ipython",
    "version": 2
   },
   "file_extension": ".py",
   "mimetype": "text/x-python",
   "name": "python",
   "nbconvert_exporter": "python",
   "pygments_lexer": "ipython2",
   "version": "2.7.6"
  }
 },
 "nbformat": 4,
 "nbformat_minor": 5
}
